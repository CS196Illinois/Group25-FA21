{
 "cells": [
  {
   "cell_type": "code",
   "execution_count": 3,
   "source": [
    "weight = input(\"Enter weight: \")\n",
    "height = input(\"Enter height: \")\n",
    "\n",
    "print(weight)\n",
    "print(height)\n",
    "BMI = (int(weight) * (703))/(int(height)) ** 2\n",
    "\n",
    "print(\"BMI is the measure of your body weight dependent on your height and weight.\")\n",
    "\n",
    "if BMI < 18.5:\n",
    "    print(\"You are underweight.\")\n",
    "elif BMI > 18.5 and BMI < 24.9:\n",
    "    print(\"You are perfect weight.\")\n",
    "elif BMI > 25 and BMI < 29.9:\n",
    "    print(\"You are overweight.\")\n",
    "else:\n",
    "    print(\"You are considered obese.\")"
   ],
   "outputs": [
    {
     "output_type": "stream",
     "name": "stdout",
     "text": [
      "165\n",
      "73\n",
      "BMI is the measure of your body weight dependent on your height and weight.\n",
      "You are perfect weight.\n"
     ]
    }
   ],
   "metadata": {}
  },
  {
   "cell_type": "code",
   "execution_count": null,
   "source": [],
   "outputs": [],
   "metadata": {}
  }
 ],
 "metadata": {
  "orig_nbformat": 4,
  "langucal_info": {
   "name": "python",
   "version": "3.9.6",
   "mimetype": "text/x-python",
   "codemirror_mode": {
    "name": "ipython",
    "version": 3
   },
   "pygments_lexer": "ipython3",
   "nbconvert_exporter": "python",
   "file_extension": ".py"
  },
  "kernelspec": {
   "name": "python3",
   "display_name": "Python 3.9.6 64-bit"
  },
  "interpreter": {
   "hash": "aee8b7b246df8f9039afb4144a1f6fd8d2ca17a180786b69acc140d282b71a49"
  }
 },
 "nbformat": 4,
 "nbformat_minor": 2
}